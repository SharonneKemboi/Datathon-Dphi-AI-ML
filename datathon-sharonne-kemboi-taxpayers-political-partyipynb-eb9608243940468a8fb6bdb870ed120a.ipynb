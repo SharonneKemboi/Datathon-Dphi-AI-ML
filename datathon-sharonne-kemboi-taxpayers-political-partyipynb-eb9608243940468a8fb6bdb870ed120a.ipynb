{
  "cells": [
    {
      "cell_type": "markdown",
      "metadata": {
        "id": "o8cHJ6jf4Ycq"
      },
      "source": [
        "## **Sharonne Kemboi**\n",
        "## **Datathon Challenge Dphi**\n",
        "\n"
      ]
    },
    {
      "cell_type": "markdown",
      "metadata": {
        "id": "DoWS32oI5czr"
      },
      "source": [
        "## Data Description :\n",
        "\n",
        "* HHI: Household income\n",
        "* HHDL: Household debt level\n",
        "* Married: There are three categories for a taxpayer 0, 1, 2 with regards to marriage.\n",
        "* PoliticalParty: Name of the political party\n",
        "* CollegeGrads: Grade in College out of 5\n",
        "* AHHAge: Average household age\n",
        "* cars: number of cars in house\n",
        "* Filed in YYYY: Tax filed in given year YYYY"
      ]
    },
    {
      "cell_type": "markdown",
      "metadata": {
        "id": "jxfbhfxG6dOx"
      },
      "source": []
    },
    {
      "cell_type": "markdown",
      "metadata": {
        "id": "hLVd9OmA6j8o"
      },
      "source": [
        "## **Import Library**"
      ]
    },
    {
      "cell_type": "code",
      "execution_count": null,
      "metadata": {
        "id": "o9F9GAPo1zFr",
        "vscode": {
          "languageId": "python"
        }
      },
      "outputs": [],
      "source": [
        "# Import library used\n",
        "\n",
        "import pandas as pd  # package for data analysis\n",
        "import numpy as np    # package for numerical computations\n",
        "\n",
        "# libraries for visualization\n",
        "import matplotlib.pyplot as plt\n",
        "import seaborn as sns\n",
        "\n",
        "# to ignore warnings\n",
        "import warnings\n",
        "warnings.filterwarnings('ignore')\n",
        "\n",
        "# For Preprocessing, ML models and Evaluation\n",
        "from sklearn.model_selection import train_test_split   # To split the dataset into train and test set\n",
        "\n",
        "from sklearn.linear_model import LogisticRegression     # Logistic regression model\n",
        "\n",
        "from sklearn.metrics import  accuracy_score    # for model evaluation"
      ]
    },
    {
      "cell_type": "markdown",
      "metadata": {
        "id": "5nx1yRIE64Id"
      },
      "source": [
        "# **Load Data**"
      ]
    },
    {
      "cell_type": "markdown",
      "metadata": {
        "id": "clJFDB-d68pP"
      },
      "source": [
        "\n",
        "\n",
        "1.   Training data\n",
        "\n",
        "\n"
      ]
    },
    {
      "cell_type": "code",
      "execution_count": null,
      "metadata": {
        "id": "75XRSEjm22Pr",
        "vscode": {
          "languageId": "python"
        }
      },
      "outputs": [],
      "source": [
        "tax_data  = pd.read_csv(\"https://raw.githubusercontent.com/dphi-official/Datasets/master/tax_payers/train_set_label.csv\" )"
      ]
    },
    {
      "cell_type": "markdown",
      "metadata": {
        "id": "eOthTvgJ7KtW"
      },
      "source": [
        "\n",
        "2.   Test Data\n",
        "\n"
      ]
    },
    {
      "cell_type": "code",
      "execution_count": null,
      "metadata": {
        "id": "dh4pDvE44VyQ",
        "vscode": {
          "languageId": "python"
        }
      },
      "outputs": [],
      "source": [
        "new_test_data = pd.read_csv('https://raw.githubusercontent.com/dphi-official/Datasets/master/tax_payers/test_set_label.csv')"
      ]
    },
    {
      "cell_type": "markdown",
      "metadata": {
        "id": "M0TmFlsY7uYT"
      },
      "source": [
        "## **EDA**"
      ]
    },
    {
      "cell_type": "markdown",
      "metadata": {
        "id": "xAv1hhhS8Abn"
      },
      "source": [
        "1. Check and Prepare Data Training"
      ]
    },
    {
      "cell_type": "code",
      "execution_count": null,
      "metadata": {
        "colab": {
          "base_uri": "https://localhost:8080/",
          "height": 191
        },
        "id": "5Ba-1wke2RG9",
        "outputId": "0cbf754a-07ef-460a-d091-e1e2f051416a",
        "vscode": {
          "languageId": "python"
        }
      },
      "outputs": [
        {
          "data": {
            "text/html": [
              "<div>\n",
              "<style scoped>\n",
              "    .dataframe tbody tr th:only-of-type {\n",
              "        vertical-align: middle;\n",
              "    }\n",
              "\n",
              "    .dataframe tbody tr th {\n",
              "        vertical-align: top;\n",
              "    }\n",
              "\n",
              "    .dataframe thead th {\n",
              "        text-align: right;\n",
              "    }\n",
              "</style>\n",
              "<table border=\"1\" class=\"dataframe\">\n",
              "  <thead>\n",
              "    <tr style=\"text-align: right;\">\n",
              "      <th></th>\n",
              "      <th>Unnamed: 0</th>\n",
              "      <th>HHI</th>\n",
              "      <th>HHDL</th>\n",
              "      <th>Married</th>\n",
              "      <th>CollegGrads</th>\n",
              "      <th>AHHAge</th>\n",
              "      <th>Cars</th>\n",
              "      <th>Filed in 2017</th>\n",
              "      <th>Filed in 2016</th>\n",
              "      <th>Filed in 2015</th>\n",
              "      <th>PoliticalParty</th>\n",
              "    </tr>\n",
              "  </thead>\n",
              "  <tbody>\n",
              "    <tr>\n",
              "      <th>0</th>\n",
              "      <td>61</td>\n",
              "      <td>183414</td>\n",
              "      <td>-12402</td>\n",
              "      <td>1</td>\n",
              "      <td>2</td>\n",
              "      <td>28</td>\n",
              "      <td>1</td>\n",
              "      <td>0</td>\n",
              "      <td>0</td>\n",
              "      <td>1</td>\n",
              "      <td>Democrat</td>\n",
              "    </tr>\n",
              "    <tr>\n",
              "      <th>1</th>\n",
              "      <td>501</td>\n",
              "      <td>129786</td>\n",
              "      <td>700251</td>\n",
              "      <td>2</td>\n",
              "      <td>5</td>\n",
              "      <td>63</td>\n",
              "      <td>3</td>\n",
              "      <td>0</td>\n",
              "      <td>0</td>\n",
              "      <td>0</td>\n",
              "      <td>Republican</td>\n",
              "    </tr>\n",
              "    <tr>\n",
              "      <th>2</th>\n",
              "      <td>658</td>\n",
              "      <td>268343</td>\n",
              "      <td>493411</td>\n",
              "      <td>2</td>\n",
              "      <td>4</td>\n",
              "      <td>44</td>\n",
              "      <td>1</td>\n",
              "      <td>1</td>\n",
              "      <td>0</td>\n",
              "      <td>1</td>\n",
              "      <td>Independent</td>\n",
              "    </tr>\n",
              "    <tr>\n",
              "      <th>3</th>\n",
              "      <td>703</td>\n",
              "      <td>290506</td>\n",
              "      <td>-433408</td>\n",
              "      <td>1</td>\n",
              "      <td>1</td>\n",
              "      <td>28</td>\n",
              "      <td>5</td>\n",
              "      <td>1</td>\n",
              "      <td>0</td>\n",
              "      <td>1</td>\n",
              "      <td>Republican</td>\n",
              "    </tr>\n",
              "    <tr>\n",
              "      <th>4</th>\n",
              "      <td>702</td>\n",
              "      <td>90108</td>\n",
              "      <td>907135</td>\n",
              "      <td>1</td>\n",
              "      <td>3</td>\n",
              "      <td>57</td>\n",
              "      <td>5</td>\n",
              "      <td>1</td>\n",
              "      <td>1</td>\n",
              "      <td>0</td>\n",
              "      <td>Democrat</td>\n",
              "    </tr>\n",
              "  </tbody>\n",
              "</table>\n",
              "</div>"
            ],
            "text/plain": [
              "   Unnamed: 0     HHI    HHDL  ...  Filed in 2016  Filed in 2015  PoliticalParty\n",
              "0          61  183414  -12402  ...              0              1        Democrat\n",
              "1         501  129786  700251  ...              0              0      Republican\n",
              "2         658  268343  493411  ...              0              1     Independent\n",
              "3         703  290506 -433408  ...              0              1      Republican\n",
              "4         702   90108  907135  ...              1              0        Democrat\n",
              "\n",
              "[5 rows x 11 columns]"
            ]
          },
          "execution_count": 581,
          "metadata": {
            "tags": []
          },
          "output_type": "execute_result"
        }
      ],
      "source": [
        "# Take a look at the first five observations\n",
        "tax_data.head()"
      ]
    },
    {
      "cell_type": "code",
      "execution_count": null,
      "metadata": {
        "colab": {
          "base_uri": "https://localhost:8080/"
        },
        "id": "OOHi_ZxV2UoM",
        "outputId": "ca367671-855c-49bb-8706-130607e22ff9",
        "vscode": {
          "languageId": "python"
        }
      },
      "outputs": [
        {
          "name": "stdout",
          "output_type": "stream",
          "text": [
            "<class 'pandas.core.frame.DataFrame'>\n",
            "RangeIndex: 803 entries, 0 to 802\n",
            "Data columns (total 11 columns):\n",
            " #   Column          Non-Null Count  Dtype \n",
            "---  ------          --------------  ----- \n",
            " 0   Unnamed: 0      803 non-null    int64 \n",
            " 1   HHI             803 non-null    int64 \n",
            " 2   HHDL            803 non-null    int64 \n",
            " 3   Married         803 non-null    int64 \n",
            " 4   CollegGrads     803 non-null    int64 \n",
            " 5   AHHAge          803 non-null    int64 \n",
            " 6   Cars            803 non-null    int64 \n",
            " 7   Filed in 2017   803 non-null    int64 \n",
            " 8   Filed in 2016   803 non-null    int64 \n",
            " 9   Filed in 2015   803 non-null    int64 \n",
            " 10  PoliticalParty  803 non-null    object\n",
            "dtypes: int64(10), object(1)\n",
            "memory usage: 69.1+ KB\n"
          ]
        }
      ],
      "source": [
        "tax_data.info()"
      ]
    },
    {
      "cell_type": "code",
      "execution_count": null,
      "metadata": {
        "colab": {
          "base_uri": "https://localhost:8080/",
          "height": 277
        },
        "id": "84innkLD8ReA",
        "outputId": "013f7e44-040e-4fe1-a963-99a44849bc77",
        "vscode": {
          "languageId": "python"
        }
      },
      "outputs": [
        {
          "data": {
            "text/html": [
              "<div>\n",
              "<style scoped>\n",
              "    .dataframe tbody tr th:only-of-type {\n",
              "        vertical-align: middle;\n",
              "    }\n",
              "\n",
              "    .dataframe tbody tr th {\n",
              "        vertical-align: top;\n",
              "    }\n",
              "\n",
              "    .dataframe thead th {\n",
              "        text-align: right;\n",
              "    }\n",
              "</style>\n",
              "<table border=\"1\" class=\"dataframe\">\n",
              "  <thead>\n",
              "    <tr style=\"text-align: right;\">\n",
              "      <th></th>\n",
              "      <th>Unnamed: 0</th>\n",
              "      <th>HHI</th>\n",
              "      <th>HHDL</th>\n",
              "      <th>Married</th>\n",
              "      <th>CollegGrads</th>\n",
              "      <th>AHHAge</th>\n",
              "      <th>Cars</th>\n",
              "      <th>Filed in 2017</th>\n",
              "      <th>Filed in 2016</th>\n",
              "      <th>Filed in 2015</th>\n",
              "    </tr>\n",
              "  </thead>\n",
              "  <tbody>\n",
              "    <tr>\n",
              "      <th>count</th>\n",
              "      <td>803.000000</td>\n",
              "      <td>803.000000</td>\n",
              "      <td>803.000000</td>\n",
              "      <td>803.000000</td>\n",
              "      <td>803.000000</td>\n",
              "      <td>803.000000</td>\n",
              "      <td>803.000000</td>\n",
              "      <td>803.000000</td>\n",
              "      <td>803.000000</td>\n",
              "      <td>803.000000</td>\n",
              "    </tr>\n",
              "    <tr>\n",
              "      <th>mean</th>\n",
              "      <td>502.241594</td>\n",
              "      <td>155402.688667</td>\n",
              "      <td>-15351.252802</td>\n",
              "      <td>0.971357</td>\n",
              "      <td>2.607721</td>\n",
              "      <td>60.559153</td>\n",
              "      <td>2.435866</td>\n",
              "      <td>0.506849</td>\n",
              "      <td>0.509340</td>\n",
              "      <td>0.516812</td>\n",
              "    </tr>\n",
              "    <tr>\n",
              "      <th>std</th>\n",
              "      <td>288.460068</td>\n",
              "      <td>86788.153213</td>\n",
              "      <td>595184.302049</td>\n",
              "      <td>0.803935</td>\n",
              "      <td>1.675492</td>\n",
              "      <td>25.071219</td>\n",
              "      <td>1.703542</td>\n",
              "      <td>0.500265</td>\n",
              "      <td>0.500224</td>\n",
              "      <td>0.500029</td>\n",
              "    </tr>\n",
              "    <tr>\n",
              "      <th>min</th>\n",
              "      <td>1.000000</td>\n",
              "      <td>185.000000</td>\n",
              "      <td>-999994.000000</td>\n",
              "      <td>0.000000</td>\n",
              "      <td>0.000000</td>\n",
              "      <td>18.000000</td>\n",
              "      <td>0.000000</td>\n",
              "      <td>0.000000</td>\n",
              "      <td>0.000000</td>\n",
              "      <td>0.000000</td>\n",
              "    </tr>\n",
              "    <tr>\n",
              "      <th>25%</th>\n",
              "      <td>254.500000</td>\n",
              "      <td>82373.000000</td>\n",
              "      <td>-516765.000000</td>\n",
              "      <td>0.000000</td>\n",
              "      <td>1.000000</td>\n",
              "      <td>38.000000</td>\n",
              "      <td>1.000000</td>\n",
              "      <td>0.000000</td>\n",
              "      <td>0.000000</td>\n",
              "      <td>0.000000</td>\n",
              "    </tr>\n",
              "    <tr>\n",
              "      <th>50%</th>\n",
              "      <td>501.000000</td>\n",
              "      <td>156542.000000</td>\n",
              "      <td>-24440.000000</td>\n",
              "      <td>1.000000</td>\n",
              "      <td>3.000000</td>\n",
              "      <td>60.000000</td>\n",
              "      <td>2.000000</td>\n",
              "      <td>1.000000</td>\n",
              "      <td>1.000000</td>\n",
              "      <td>1.000000</td>\n",
              "    </tr>\n",
              "    <tr>\n",
              "      <th>75%</th>\n",
              "      <td>754.500000</td>\n",
              "      <td>230772.000000</td>\n",
              "      <td>518135.500000</td>\n",
              "      <td>2.000000</td>\n",
              "      <td>4.000000</td>\n",
              "      <td>82.000000</td>\n",
              "      <td>4.000000</td>\n",
              "      <td>1.000000</td>\n",
              "      <td>1.000000</td>\n",
              "      <td>1.000000</td>\n",
              "    </tr>\n",
              "    <tr>\n",
              "      <th>max</th>\n",
              "      <td>1004.000000</td>\n",
              "      <td>299374.000000</td>\n",
              "      <td>999628.000000</td>\n",
              "      <td>2.000000</td>\n",
              "      <td>5.000000</td>\n",
              "      <td>105.000000</td>\n",
              "      <td>5.000000</td>\n",
              "      <td>1.000000</td>\n",
              "      <td>1.000000</td>\n",
              "      <td>1.000000</td>\n",
              "    </tr>\n",
              "  </tbody>\n",
              "</table>\n",
              "</div>"
            ],
            "text/plain": [
              "        Unnamed: 0            HHI  ...  Filed in 2016  Filed in 2015\n",
              "count   803.000000     803.000000  ...     803.000000     803.000000\n",
              "mean    502.241594  155402.688667  ...       0.509340       0.516812\n",
              "std     288.460068   86788.153213  ...       0.500224       0.500029\n",
              "min       1.000000     185.000000  ...       0.000000       0.000000\n",
              "25%     254.500000   82373.000000  ...       0.000000       0.000000\n",
              "50%     501.000000  156542.000000  ...       1.000000       1.000000\n",
              "75%     754.500000  230772.000000  ...       1.000000       1.000000\n",
              "max    1004.000000  299374.000000  ...       1.000000       1.000000\n",
              "\n",
              "[8 rows x 10 columns]"
            ]
          },
          "execution_count": 583,
          "metadata": {
            "tags": []
          },
          "output_type": "execute_result"
        }
      ],
      "source": [
        "tax_data.describe()"
      ]
    },
    {
      "cell_type": "markdown",
      "metadata": {
        "id": "2sO26zSz9E0B"
      },
      "source": [
        "* ### Separating input and Output (for training data)\n",
        "\n",
        "\n",
        "\n"
      ]
    },
    {
      "cell_type": "code",
      "execution_count": null,
      "metadata": {
        "id": "DyDjkjYA9WnF",
        "vscode": {
          "languageId": "python"
        }
      },
      "outputs": [],
      "source": [
        "x = tax_data.iloc[:,1:10]\n",
        "y = tax_data['PoliticalParty']"
      ]
    },
    {
      "cell_type": "markdown",
      "metadata": {
        "id": "gCuuwSj5866u"
      },
      "source": [
        "2. Check and Prepare Data Test"
      ]
    },
    {
      "cell_type": "code",
      "execution_count": null,
      "metadata": {
        "colab": {
          "base_uri": "https://localhost:8080/",
          "height": 191
        },
        "id": "3-elPBd68bQs",
        "outputId": "37b28137-a99c-489a-8568-e4a8bac83624",
        "vscode": {
          "languageId": "python"
        }
      },
      "outputs": [
        {
          "data": {
            "text/html": [
              "<div>\n",
              "<style scoped>\n",
              "    .dataframe tbody tr th:only-of-type {\n",
              "        vertical-align: middle;\n",
              "    }\n",
              "\n",
              "    .dataframe tbody tr th {\n",
              "        vertical-align: top;\n",
              "    }\n",
              "\n",
              "    .dataframe thead th {\n",
              "        text-align: right;\n",
              "    }\n",
              "</style>\n",
              "<table border=\"1\" class=\"dataframe\">\n",
              "  <thead>\n",
              "    <tr style=\"text-align: right;\">\n",
              "      <th></th>\n",
              "      <th>Unnamed: 0</th>\n",
              "      <th>HHI</th>\n",
              "      <th>HHDL</th>\n",
              "      <th>Married</th>\n",
              "      <th>CollegGrads</th>\n",
              "      <th>AHHAge</th>\n",
              "      <th>Cars</th>\n",
              "      <th>Filed in 2017</th>\n",
              "      <th>Filed in 2016</th>\n",
              "      <th>Filed in 2015</th>\n",
              "    </tr>\n",
              "  </thead>\n",
              "  <tbody>\n",
              "    <tr>\n",
              "      <th>0</th>\n",
              "      <td>17</td>\n",
              "      <td>253274</td>\n",
              "      <td>-633752</td>\n",
              "      <td>2</td>\n",
              "      <td>1</td>\n",
              "      <td>94</td>\n",
              "      <td>3</td>\n",
              "      <td>0</td>\n",
              "      <td>1</td>\n",
              "      <td>1</td>\n",
              "    </tr>\n",
              "    <tr>\n",
              "      <th>1</th>\n",
              "      <td>590</td>\n",
              "      <td>47107</td>\n",
              "      <td>322850</td>\n",
              "      <td>0</td>\n",
              "      <td>1</td>\n",
              "      <td>30</td>\n",
              "      <td>2</td>\n",
              "      <td>1</td>\n",
              "      <td>1</td>\n",
              "      <td>0</td>\n",
              "    </tr>\n",
              "    <tr>\n",
              "      <th>2</th>\n",
              "      <td>224</td>\n",
              "      <td>111874</td>\n",
              "      <td>300583</td>\n",
              "      <td>0</td>\n",
              "      <td>2</td>\n",
              "      <td>46</td>\n",
              "      <td>3</td>\n",
              "      <td>0</td>\n",
              "      <td>1</td>\n",
              "      <td>1</td>\n",
              "    </tr>\n",
              "    <tr>\n",
              "      <th>3</th>\n",
              "      <td>960</td>\n",
              "      <td>96670</td>\n",
              "      <td>107419</td>\n",
              "      <td>0</td>\n",
              "      <td>3</td>\n",
              "      <td>77</td>\n",
              "      <td>5</td>\n",
              "      <td>0</td>\n",
              "      <td>0</td>\n",
              "      <td>0</td>\n",
              "    </tr>\n",
              "    <tr>\n",
              "      <th>4</th>\n",
              "      <td>57</td>\n",
              "      <td>128669</td>\n",
              "      <td>341273</td>\n",
              "      <td>0</td>\n",
              "      <td>0</td>\n",
              "      <td>92</td>\n",
              "      <td>4</td>\n",
              "      <td>1</td>\n",
              "      <td>1</td>\n",
              "      <td>1</td>\n",
              "    </tr>\n",
              "  </tbody>\n",
              "</table>\n",
              "</div>"
            ],
            "text/plain": [
              "   Unnamed: 0     HHI    HHDL  ...  Filed in 2017  Filed in 2016  Filed in 2015\n",
              "0          17  253274 -633752  ...              0              1              1\n",
              "1         590   47107  322850  ...              1              1              0\n",
              "2         224  111874  300583  ...              0              1              1\n",
              "3         960   96670  107419  ...              0              0              0\n",
              "4          57  128669  341273  ...              1              1              1\n",
              "\n",
              "[5 rows x 10 columns]"
            ]
          },
          "execution_count": 585,
          "metadata": {
            "tags": []
          },
          "output_type": "execute_result"
        }
      ],
      "source": [
        "new_test_data.head()"
      ]
    },
    {
      "cell_type": "code",
      "execution_count": null,
      "metadata": {
        "colab": {
          "base_uri": "https://localhost:8080/"
        },
        "id": "7RbiEWbU-7J2",
        "outputId": "be95f009-559b-4f59-f352-0ba33b2efb7b",
        "vscode": {
          "languageId": "python"
        }
      },
      "outputs": [
        {
          "name": "stdout",
          "output_type": "stream",
          "text": [
            "<class 'pandas.core.frame.DataFrame'>\n",
            "RangeIndex: 201 entries, 0 to 200\n",
            "Data columns (total 10 columns):\n",
            " #   Column         Non-Null Count  Dtype\n",
            "---  ------         --------------  -----\n",
            " 0   Unnamed: 0     201 non-null    int64\n",
            " 1   HHI            201 non-null    int64\n",
            " 2   HHDL           201 non-null    int64\n",
            " 3   Married        201 non-null    int64\n",
            " 4   CollegGrads    201 non-null    int64\n",
            " 5   AHHAge         201 non-null    int64\n",
            " 6   Cars           201 non-null    int64\n",
            " 7   Filed in 2017  201 non-null    int64\n",
            " 8   Filed in 2016  201 non-null    int64\n",
            " 9   Filed in 2015  201 non-null    int64\n",
            "dtypes: int64(10)\n",
            "memory usage: 15.8 KB\n"
          ]
        }
      ],
      "source": [
        "new_test_data.info()"
      ]
    },
    {
      "cell_type": "code",
      "execution_count": null,
      "metadata": {
        "colab": {
          "base_uri": "https://localhost:8080/",
          "height": 277
        },
        "id": "eGt0Y5CN_AxA",
        "outputId": "490a2b82-bfa4-473d-d1e8-51f36250ff06",
        "vscode": {
          "languageId": "python"
        }
      },
      "outputs": [
        {
          "data": {
            "text/html": [
              "<div>\n",
              "<style scoped>\n",
              "    .dataframe tbody tr th:only-of-type {\n",
              "        vertical-align: middle;\n",
              "    }\n",
              "\n",
              "    .dataframe tbody tr th {\n",
              "        vertical-align: top;\n",
              "    }\n",
              "\n",
              "    .dataframe thead th {\n",
              "        text-align: right;\n",
              "    }\n",
              "</style>\n",
              "<table border=\"1\" class=\"dataframe\">\n",
              "  <thead>\n",
              "    <tr style=\"text-align: right;\">\n",
              "      <th></th>\n",
              "      <th>Unnamed: 0</th>\n",
              "      <th>HHI</th>\n",
              "      <th>HHDL</th>\n",
              "      <th>Married</th>\n",
              "      <th>CollegGrads</th>\n",
              "      <th>AHHAge</th>\n",
              "      <th>Cars</th>\n",
              "      <th>Filed in 2017</th>\n",
              "      <th>Filed in 2016</th>\n",
              "      <th>Filed in 2015</th>\n",
              "    </tr>\n",
              "  </thead>\n",
              "  <tbody>\n",
              "    <tr>\n",
              "      <th>count</th>\n",
              "      <td>201.000000</td>\n",
              "      <td>201.00000</td>\n",
              "      <td>201.000000</td>\n",
              "      <td>201.000000</td>\n",
              "      <td>201.000000</td>\n",
              "      <td>201.000000</td>\n",
              "      <td>201.000000</td>\n",
              "      <td>201.000000</td>\n",
              "      <td>201.000000</td>\n",
              "      <td>201.000000</td>\n",
              "    </tr>\n",
              "    <tr>\n",
              "      <th>mean</th>\n",
              "      <td>503.532338</td>\n",
              "      <td>146021.20398</td>\n",
              "      <td>28027.970149</td>\n",
              "      <td>0.965174</td>\n",
              "      <td>2.547264</td>\n",
              "      <td>60.651741</td>\n",
              "      <td>2.492537</td>\n",
              "      <td>0.512438</td>\n",
              "      <td>0.527363</td>\n",
              "      <td>0.482587</td>\n",
              "    </tr>\n",
              "    <tr>\n",
              "      <th>std</th>\n",
              "      <td>296.674907</td>\n",
              "      <td>83432.62547</td>\n",
              "      <td>588184.526824</td>\n",
              "      <td>0.820842</td>\n",
              "      <td>1.737528</td>\n",
              "      <td>23.996210</td>\n",
              "      <td>1.697408</td>\n",
              "      <td>0.501093</td>\n",
              "      <td>0.500497</td>\n",
              "      <td>0.500944</td>\n",
              "    </tr>\n",
              "    <tr>\n",
              "      <th>min</th>\n",
              "      <td>4.000000</td>\n",
              "      <td>1418.00000</td>\n",
              "      <td>-993611.000000</td>\n",
              "      <td>0.000000</td>\n",
              "      <td>0.000000</td>\n",
              "      <td>20.000000</td>\n",
              "      <td>0.000000</td>\n",
              "      <td>0.000000</td>\n",
              "      <td>0.000000</td>\n",
              "      <td>0.000000</td>\n",
              "    </tr>\n",
              "    <tr>\n",
              "      <th>25%</th>\n",
              "      <td>249.000000</td>\n",
              "      <td>85083.00000</td>\n",
              "      <td>-488672.000000</td>\n",
              "      <td>0.000000</td>\n",
              "      <td>1.000000</td>\n",
              "      <td>40.000000</td>\n",
              "      <td>1.000000</td>\n",
              "      <td>0.000000</td>\n",
              "      <td>0.000000</td>\n",
              "      <td>0.000000</td>\n",
              "    </tr>\n",
              "    <tr>\n",
              "      <th>50%</th>\n",
              "      <td>510.000000</td>\n",
              "      <td>137468.00000</td>\n",
              "      <td>73466.000000</td>\n",
              "      <td>1.000000</td>\n",
              "      <td>2.000000</td>\n",
              "      <td>61.000000</td>\n",
              "      <td>3.000000</td>\n",
              "      <td>1.000000</td>\n",
              "      <td>1.000000</td>\n",
              "      <td>0.000000</td>\n",
              "    </tr>\n",
              "    <tr>\n",
              "      <th>75%</th>\n",
              "      <td>748.000000</td>\n",
              "      <td>220331.00000</td>\n",
              "      <td>529624.000000</td>\n",
              "      <td>2.000000</td>\n",
              "      <td>4.000000</td>\n",
              "      <td>79.000000</td>\n",
              "      <td>4.000000</td>\n",
              "      <td>1.000000</td>\n",
              "      <td>1.000000</td>\n",
              "      <td>1.000000</td>\n",
              "    </tr>\n",
              "    <tr>\n",
              "      <th>max</th>\n",
              "      <td>990.000000</td>\n",
              "      <td>299700.00000</td>\n",
              "      <td>985448.000000</td>\n",
              "      <td>2.000000</td>\n",
              "      <td>5.000000</td>\n",
              "      <td>105.000000</td>\n",
              "      <td>5.000000</td>\n",
              "      <td>1.000000</td>\n",
              "      <td>1.000000</td>\n",
              "      <td>1.000000</td>\n",
              "    </tr>\n",
              "  </tbody>\n",
              "</table>\n",
              "</div>"
            ],
            "text/plain": [
              "       Unnamed: 0           HHI  ...  Filed in 2016  Filed in 2015\n",
              "count  201.000000     201.00000  ...     201.000000     201.000000\n",
              "mean   503.532338  146021.20398  ...       0.527363       0.482587\n",
              "std    296.674907   83432.62547  ...       0.500497       0.500944\n",
              "min      4.000000    1418.00000  ...       0.000000       0.000000\n",
              "25%    249.000000   85083.00000  ...       0.000000       0.000000\n",
              "50%    510.000000  137468.00000  ...       1.000000       0.000000\n",
              "75%    748.000000  220331.00000  ...       1.000000       1.000000\n",
              "max    990.000000  299700.00000  ...       1.000000       1.000000\n",
              "\n",
              "[8 rows x 10 columns]"
            ]
          },
          "execution_count": 587,
          "metadata": {
            "tags": []
          },
          "output_type": "execute_result"
        }
      ],
      "source": [
        "new_test_data.describe()"
      ]
    },
    {
      "cell_type": "code",
      "execution_count": null,
      "metadata": {
        "colab": {
          "base_uri": "https://localhost:8080/",
          "height": 191
        },
        "id": "TncZpmCZCjLb",
        "outputId": "99709f6b-8572-4c63-c72a-5a16928f106f",
        "vscode": {
          "languageId": "python"
        }
      },
      "outputs": [
        {
          "data": {
            "text/html": [
              "<div>\n",
              "<style scoped>\n",
              "    .dataframe tbody tr th:only-of-type {\n",
              "        vertical-align: middle;\n",
              "    }\n",
              "\n",
              "    .dataframe tbody tr th {\n",
              "        vertical-align: top;\n",
              "    }\n",
              "\n",
              "    .dataframe thead th {\n",
              "        text-align: right;\n",
              "    }\n",
              "</style>\n",
              "<table border=\"1\" class=\"dataframe\">\n",
              "  <thead>\n",
              "    <tr style=\"text-align: right;\">\n",
              "      <th></th>\n",
              "      <th>HHI</th>\n",
              "      <th>HHDL</th>\n",
              "      <th>Married</th>\n",
              "      <th>CollegGrads</th>\n",
              "      <th>AHHAge</th>\n",
              "      <th>Cars</th>\n",
              "      <th>Filed in 2017</th>\n",
              "      <th>Filed in 2016</th>\n",
              "      <th>Filed in 2015</th>\n",
              "    </tr>\n",
              "  </thead>\n",
              "  <tbody>\n",
              "    <tr>\n",
              "      <th>0</th>\n",
              "      <td>253274</td>\n",
              "      <td>-633752</td>\n",
              "      <td>2</td>\n",
              "      <td>1</td>\n",
              "      <td>94</td>\n",
              "      <td>3</td>\n",
              "      <td>0</td>\n",
              "      <td>1</td>\n",
              "      <td>1</td>\n",
              "    </tr>\n",
              "    <tr>\n",
              "      <th>1</th>\n",
              "      <td>47107</td>\n",
              "      <td>322850</td>\n",
              "      <td>0</td>\n",
              "      <td>1</td>\n",
              "      <td>30</td>\n",
              "      <td>2</td>\n",
              "      <td>1</td>\n",
              "      <td>1</td>\n",
              "      <td>0</td>\n",
              "    </tr>\n",
              "    <tr>\n",
              "      <th>2</th>\n",
              "      <td>111874</td>\n",
              "      <td>300583</td>\n",
              "      <td>0</td>\n",
              "      <td>2</td>\n",
              "      <td>46</td>\n",
              "      <td>3</td>\n",
              "      <td>0</td>\n",
              "      <td>1</td>\n",
              "      <td>1</td>\n",
              "    </tr>\n",
              "    <tr>\n",
              "      <th>3</th>\n",
              "      <td>96670</td>\n",
              "      <td>107419</td>\n",
              "      <td>0</td>\n",
              "      <td>3</td>\n",
              "      <td>77</td>\n",
              "      <td>5</td>\n",
              "      <td>0</td>\n",
              "      <td>0</td>\n",
              "      <td>0</td>\n",
              "    </tr>\n",
              "    <tr>\n",
              "      <th>4</th>\n",
              "      <td>128669</td>\n",
              "      <td>341273</td>\n",
              "      <td>0</td>\n",
              "      <td>0</td>\n",
              "      <td>92</td>\n",
              "      <td>4</td>\n",
              "      <td>1</td>\n",
              "      <td>1</td>\n",
              "      <td>1</td>\n",
              "    </tr>\n",
              "  </tbody>\n",
              "</table>\n",
              "</div>"
            ],
            "text/plain": [
              "      HHI    HHDL  Married  ...  Filed in 2017  Filed in 2016  Filed in 2015\n",
              "0  253274 -633752        2  ...              0              1              1\n",
              "1   47107  322850        0  ...              1              1              0\n",
              "2  111874  300583        0  ...              0              1              1\n",
              "3   96670  107419        0  ...              0              0              0\n",
              "4  128669  341273        0  ...              1              1              1\n",
              "\n",
              "[5 rows x 9 columns]"
            ]
          },
          "execution_count": 588,
          "metadata": {
            "tags": []
          },
          "output_type": "execute_result"
        }
      ],
      "source": [
        "# Input test data to variable x_test \n",
        "x_test = new_test_data.iloc[:,1:10]\n",
        "x_test.head()"
      ]
    },
    {
      "cell_type": "markdown",
      "metadata": {
        "id": "71ouiRWB_Xur"
      },
      "source": [
        "### **EDA & Data Preprocessing** "
      ]
    },
    {
      "cell_type": "markdown",
      "metadata": {
        "id": "Ugtw1sjJonAJ"
      },
      "source": [
        "1. Training Data\n",
        "\n"
      ]
    },
    {
      "cell_type": "code",
      "execution_count": null,
      "metadata": {
        "colab": {
          "base_uri": "https://localhost:8080/",
          "height": 191
        },
        "id": "doi5pEEj_II3",
        "outputId": "d74fad76-d4f6-4392-b71b-11e5d6b0fff2",
        "vscode": {
          "languageId": "python"
        }
      },
      "outputs": [
        {
          "data": {
            "text/html": [
              "<div>\n",
              "<style scoped>\n",
              "    .dataframe tbody tr th:only-of-type {\n",
              "        vertical-align: middle;\n",
              "    }\n",
              "\n",
              "    .dataframe tbody tr th {\n",
              "        vertical-align: top;\n",
              "    }\n",
              "\n",
              "    .dataframe thead th {\n",
              "        text-align: right;\n",
              "    }\n",
              "</style>\n",
              "<table border=\"1\" class=\"dataframe\">\n",
              "  <thead>\n",
              "    <tr style=\"text-align: right;\">\n",
              "      <th></th>\n",
              "      <th>HHI</th>\n",
              "      <th>HHDL</th>\n",
              "      <th>Married</th>\n",
              "      <th>CollegGrads</th>\n",
              "      <th>AHHAge</th>\n",
              "      <th>Cars</th>\n",
              "      <th>Filed in 2017</th>\n",
              "      <th>Filed in 2016</th>\n",
              "      <th>Filed in 2015</th>\n",
              "    </tr>\n",
              "  </thead>\n",
              "  <tbody>\n",
              "    <tr>\n",
              "      <th>0</th>\n",
              "      <td>183414</td>\n",
              "      <td>-12402</td>\n",
              "      <td>1</td>\n",
              "      <td>2</td>\n",
              "      <td>28</td>\n",
              "      <td>1</td>\n",
              "      <td>0</td>\n",
              "      <td>0</td>\n",
              "      <td>1</td>\n",
              "    </tr>\n",
              "    <tr>\n",
              "      <th>1</th>\n",
              "      <td>129786</td>\n",
              "      <td>700251</td>\n",
              "      <td>2</td>\n",
              "      <td>5</td>\n",
              "      <td>63</td>\n",
              "      <td>3</td>\n",
              "      <td>0</td>\n",
              "      <td>0</td>\n",
              "      <td>0</td>\n",
              "    </tr>\n",
              "    <tr>\n",
              "      <th>2</th>\n",
              "      <td>268343</td>\n",
              "      <td>493411</td>\n",
              "      <td>2</td>\n",
              "      <td>4</td>\n",
              "      <td>44</td>\n",
              "      <td>1</td>\n",
              "      <td>1</td>\n",
              "      <td>0</td>\n",
              "      <td>1</td>\n",
              "    </tr>\n",
              "    <tr>\n",
              "      <th>3</th>\n",
              "      <td>290506</td>\n",
              "      <td>-433408</td>\n",
              "      <td>1</td>\n",
              "      <td>1</td>\n",
              "      <td>28</td>\n",
              "      <td>5</td>\n",
              "      <td>1</td>\n",
              "      <td>0</td>\n",
              "      <td>1</td>\n",
              "    </tr>\n",
              "    <tr>\n",
              "      <th>4</th>\n",
              "      <td>90108</td>\n",
              "      <td>907135</td>\n",
              "      <td>1</td>\n",
              "      <td>3</td>\n",
              "      <td>57</td>\n",
              "      <td>5</td>\n",
              "      <td>1</td>\n",
              "      <td>1</td>\n",
              "      <td>0</td>\n",
              "    </tr>\n",
              "  </tbody>\n",
              "</table>\n",
              "</div>"
            ],
            "text/plain": [
              "      HHI    HHDL  Married  ...  Filed in 2017  Filed in 2016  Filed in 2015\n",
              "0  183414  -12402        1  ...              0              0              1\n",
              "1  129786  700251        2  ...              0              0              0\n",
              "2  268343  493411        2  ...              1              0              1\n",
              "3  290506 -433408        1  ...              1              0              1\n",
              "4   90108  907135        1  ...              1              1              0\n",
              "\n",
              "[5 rows x 9 columns]"
            ]
          },
          "execution_count": 589,
          "metadata": {
            "tags": []
          },
          "output_type": "execute_result"
        }
      ],
      "source": [
        "x.head()"
      ]
    },
    {
      "cell_type": "code",
      "execution_count": null,
      "metadata": {
        "colab": {
          "base_uri": "https://localhost:8080/"
        },
        "id": "_A-1I2yLDAFE",
        "outputId": "0d17a4e9-94c0-4827-da11-7b5ac8973f47",
        "vscode": {
          "languageId": "python"
        }
      },
      "outputs": [
        {
          "name": "stdout",
          "output_type": "stream",
          "text": [
            "<class 'pandas.core.frame.DataFrame'>\n",
            "RangeIndex: 803 entries, 0 to 802\n",
            "Data columns (total 9 columns):\n",
            " #   Column         Non-Null Count  Dtype\n",
            "---  ------         --------------  -----\n",
            " 0   HHI            803 non-null    int64\n",
            " 1   HHDL           803 non-null    int64\n",
            " 2   Married        803 non-null    int64\n",
            " 3   CollegGrads    803 non-null    int64\n",
            " 4   AHHAge         803 non-null    int64\n",
            " 5   Cars           803 non-null    int64\n",
            " 6   Filed in 2017  803 non-null    int64\n",
            " 7   Filed in 2016  803 non-null    int64\n",
            " 8   Filed in 2015  803 non-null    int64\n",
            "dtypes: int64(9)\n",
            "memory usage: 56.6 KB\n"
          ]
        }
      ],
      "source": [
        "x.info()"
      ]
    },
    {
      "cell_type": "code",
      "execution_count": null,
      "metadata": {
        "colab": {
          "base_uri": "https://localhost:8080/"
        },
        "id": "ujNJT4KnDkAM",
        "outputId": "23b884bc-06e7-4439-9eb8-b4a4ff44f118",
        "vscode": {
          "languageId": "python"
        }
      },
      "outputs": [
        {
          "data": {
            "text/plain": [
              "(803, 9)"
            ]
          },
          "execution_count": 591,
          "metadata": {
            "tags": []
          },
          "output_type": "execute_result"
        }
      ],
      "source": [
        "x.shape"
      ]
    },
    {
      "cell_type": "code",
      "execution_count": null,
      "metadata": {
        "colab": {
          "base_uri": "https://localhost:8080/"
        },
        "id": "9kw1o_bbDyBU",
        "outputId": "2d121292-5174-4e07-e9b0-5bc72d893c3f",
        "vscode": {
          "languageId": "python"
        }
      },
      "outputs": [
        {
          "data": {
            "text/plain": [
              "HHI              0\n",
              "HHDL             0\n",
              "Married          0\n",
              "CollegGrads      0\n",
              "AHHAge           0\n",
              "Cars             0\n",
              "Filed in 2017    0\n",
              "Filed in 2016    0\n",
              "Filed in 2015    0\n",
              "dtype: int64"
            ]
          },
          "execution_count": 592,
          "metadata": {
            "tags": []
          },
          "output_type": "execute_result"
        }
      ],
      "source": [
        "x.isnull().sum()"
      ]
    },
    {
      "cell_type": "markdown",
      "metadata": {
        "id": "X1SOOOaZDNZY"
      },
      "source": [
        "**Observations:**\n",
        "\n",
        "1. There are 803 observations (train) divided into 9 columns.\n",
        "2. There are no missing values in the dataset.\n"
      ]
    },
    {
      "cell_type": "code",
      "execution_count": null,
      "metadata": {
        "colab": {
          "base_uri": "https://localhost:8080/",
          "height": 278
        },
        "id": "6nus-9yTD67H",
        "outputId": "38fd2cd5-9552-4f81-d88b-3fdb10b86bde",
        "vscode": {
          "languageId": "python"
        }
      },
      "outputs": [
        {
          "data": {
            "image/png": "[encoded data removed]",
            "text/plain": [
              "<Figure size 432x288 with 1 Axes>"
            ]
          },
          "metadata": {
            "needs_background": "light",
            "tags": []
          },
          "output_type": "display_data"
        }
      ],
      "source": [
        "sns.countplot(y)\n",
        "plt.show()"
      ]
    },
    {
      "cell_type": "markdown",
      "metadata": {
        "id": "F67IJetvEcBE"
      },
      "source": [
        "from the diagram, we can say that the output class is balanced"
      ]
    },
    {
      "cell_type": "code",
      "execution_count": null,
      "metadata": {
        "colab": {
          "base_uri": "https://localhost:8080/"
        },
        "id": "LyURMopCH3Lf",
        "outputId": "5017cc16-69a7-44e5-ea54-bac58aa1a9c5",
        "vscode": {
          "languageId": "python"
        }
      },
      "outputs": [
        {
          "data": {
            "text/plain": [
              "Married          3\n",
              "Filed in 2017    2\n",
              "Filed in 2016    2\n",
              "Filed in 2015    2\n",
              "dtype: int64"
            ]
          },
          "execution_count": 595,
          "metadata": {
            "tags": []
          },
          "output_type": "execute_result"
        }
      ],
      "source": [
        "categorical_data = x.drop(numeric_data.columns, axis=1)    # dropping the numerical columns from the dataframe 'data'\n",
        "categorical_data.nunique()   # nunique() return you the number of unique values in each column/feature"
      ]
    },
    {
      "cell_type": "code",
      "execution_count": null,
      "metadata": {
        "colab": {
          "base_uri": "https://localhost:8080/",
          "height": 191
        },
        "id": "NRMCVwnWWqi9",
        "outputId": "ac0b16a0-1585-4706-bac2-c53288a0c56c",
        "vscode": {
          "languageId": "python"
        }
      },
      "outputs": [
        {
          "data": {
            "text/html": [
              "<div>\n",
              "<style scoped>\n",
              "    .dataframe tbody tr th:only-of-type {\n",
              "        vertical-align: middle;\n",
              "    }\n",
              "\n",
              "    .dataframe tbody tr th {\n",
              "        vertical-align: top;\n",
              "    }\n",
              "\n",
              "    .dataframe thead th {\n",
              "        text-align: right;\n",
              "    }\n",
              "</style>\n",
              "<table border=\"1\" class=\"dataframe\">\n",
              "  <thead>\n",
              "    <tr style=\"text-align: right;\">\n",
              "      <th></th>\n",
              "      <th>HHI</th>\n",
              "      <th>HHDL</th>\n",
              "      <th>CollegGrads</th>\n",
              "      <th>AHHAge</th>\n",
              "      <th>Cars</th>\n",
              "      <th>Married_0</th>\n",
              "      <th>Married_1</th>\n",
              "      <th>Married_2</th>\n",
              "      <th>Filed in 2015_0</th>\n",
              "      <th>Filed in 2015_1</th>\n",
              "      <th>Filed in 2016_0</th>\n",
              "      <th>Filed in 2016_1</th>\n",
              "      <th>Filed in 2017_0</th>\n",
              "      <th>Filed in 2017_1</th>\n",
              "    </tr>\n",
              "  </thead>\n",
              "  <tbody>\n",
              "    <tr>\n",
              "      <th>0</th>\n",
              "      <td>183414</td>\n",
              "      <td>-12402</td>\n",
              "      <td>2</td>\n",
              "      <td>28</td>\n",
              "      <td>1</td>\n",
              "      <td>0</td>\n",
              "      <td>1</td>\n",
              "      <td>0</td>\n",
              "      <td>0</td>\n",
              "      <td>1</td>\n",
              "      <td>1</td>\n",
              "      <td>0</td>\n",
              "      <td>1</td>\n",
              "      <td>0</td>\n",
              "    </tr>\n",
              "    <tr>\n",
              "      <th>1</th>\n",
              "      <td>129786</td>\n",
              "      <td>700251</td>\n",
              "      <td>5</td>\n",
              "      <td>63</td>\n",
              "      <td>3</td>\n",
              "      <td>0</td>\n",
              "      <td>0</td>\n",
              "      <td>1</td>\n",
              "      <td>1</td>\n",
              "      <td>0</td>\n",
              "      <td>1</td>\n",
              "      <td>0</td>\n",
              "      <td>1</td>\n",
              "      <td>0</td>\n",
              "    </tr>\n",
              "    <tr>\n",
              "      <th>2</th>\n",
              "      <td>268343</td>\n",
              "      <td>493411</td>\n",
              "      <td>4</td>\n",
              "      <td>44</td>\n",
              "      <td>1</td>\n",
              "      <td>0</td>\n",
              "      <td>0</td>\n",
              "      <td>1</td>\n",
              "      <td>0</td>\n",
              "      <td>1</td>\n",
              "      <td>1</td>\n",
              "      <td>0</td>\n",
              "      <td>0</td>\n",
              "      <td>1</td>\n",
              "    </tr>\n",
              "    <tr>\n",
              "      <th>3</th>\n",
              "      <td>290506</td>\n",
              "      <td>-433408</td>\n",
              "      <td>1</td>\n",
              "      <td>28</td>\n",
              "      <td>5</td>\n",
              "      <td>0</td>\n",
              "      <td>1</td>\n",
              "      <td>0</td>\n",
              "      <td>0</td>\n",
              "      <td>1</td>\n",
              "      <td>1</td>\n",
              "      <td>0</td>\n",
              "      <td>0</td>\n",
              "      <td>1</td>\n",
              "    </tr>\n",
              "    <tr>\n",
              "      <th>4</th>\n",
              "      <td>90108</td>\n",
              "      <td>907135</td>\n",
              "      <td>3</td>\n",
              "      <td>57</td>\n",
              "      <td>5</td>\n",
              "      <td>0</td>\n",
              "      <td>1</td>\n",
              "      <td>0</td>\n",
              "      <td>1</td>\n",
              "      <td>0</td>\n",
              "      <td>0</td>\n",
              "      <td>1</td>\n",
              "      <td>0</td>\n",
              "      <td>1</td>\n",
              "    </tr>\n",
              "  </tbody>\n",
              "</table>\n",
              "</div>"
            ],
            "text/plain": [
              "      HHI    HHDL  ...  Filed in 2017_0  Filed in 2017_1\n",
              "0  183414  -12402  ...                1                0\n",
              "1  129786  700251  ...                1                0\n",
              "2  268343  493411  ...                0                1\n",
              "3  290506 -433408  ...                0                1\n",
              "4   90108  907135  ...                0                1\n",
              "\n",
              "[5 rows x 14 columns]"
            ]
          },
          "execution_count": 598,
          "metadata": {
            "tags": []
          },
          "output_type": "execute_result"
        }
      ],
      "source": [
        "x_new.head()"
      ]
    },
    {
      "cell_type": "code",
      "execution_count": null,
      "metadata": {
        "colab": {
          "base_uri": "https://localhost:8080/"
        },
        "id": "Y12UVGxYTJL8",
        "outputId": "b26cac6c-ab11-4bcb-9e5e-0a043b7e47c4",
        "vscode": {
          "languageId": "python"
        }
      },
      "outputs": [
        {
          "data": {
            "text/plain": [
              "0       Democrat\n",
              "1     Republican\n",
              "2    Independent\n",
              "3     Republican\n",
              "4       Democrat\n",
              "Name: PoliticalParty, dtype: object"
            ]
          },
          "execution_count": 599,
          "metadata": {
            "tags": []
          },
          "output_type": "execute_result"
        }
      ],
      "source": [
        "y.head()"
      ]
    },
    {
      "cell_type": "code",
      "execution_count": null,
      "metadata": {
        "colab": {
          "base_uri": "https://localhost:8080/"
        },
        "id": "YyCT8AHysyVu",
        "outputId": "331be40d-39ea-4461-8d95-7b8747d2dc14",
        "vscode": {
          "languageId": "python"
        }
      },
      "outputs": [
        {
          "data": {
            "text/plain": [
              "0"
            ]
          },
          "execution_count": 600,
          "metadata": {
            "tags": []
          },
          "output_type": "execute_result"
        }
      ],
      "source": [
        "y.isnull().sum()"
      ]
    },
    {
      "cell_type": "code",
      "execution_count": null,
      "metadata": {
        "colab": {
          "base_uri": "https://localhost:8080/"
        },
        "id": "Ed3WAabts7e_",
        "outputId": "d98d5d7b-b774-40b0-abe4-c42ebecafecb",
        "vscode": {
          "languageId": "python"
        }
      },
      "outputs": [
        {
          "data": {
            "text/plain": [
              "Independent    269\n",
              "Democrat       269\n",
              "Republican     265\n",
              "Name: PoliticalParty, dtype: int64"
            ]
          },
          "execution_count": 601,
          "metadata": {
            "tags": []
          },
          "output_type": "execute_result"
        }
      ],
      "source": [
        "y.value_counts()"
      ]
    },
    {
      "cell_type": "markdown",
      "metadata": {
        "id": "VjJKqhRlpABV"
      },
      "source": [
        "### 2. Testing Data"
      ]
    },
    {
      "cell_type": "code",
      "execution_count": null,
      "metadata": {
        "colab": {
          "base_uri": "https://localhost:8080/",
          "height": 191
        },
        "id": "EvuNYhGIo-2m",
        "outputId": "d8016549-8d49-4da3-cbb4-8e71846e785e",
        "vscode": {
          "languageId": "python"
        }
      },
      "outputs": [
        {
          "data": {
            "text/html": [
              "<div>\n",
              "<style scoped>\n",
              "    .dataframe tbody tr th:only-of-type {\n",
              "        vertical-align: middle;\n",
              "    }\n",
              "\n",
              "    .dataframe tbody tr th {\n",
              "        vertical-align: top;\n",
              "    }\n",
              "\n",
              "    .dataframe thead th {\n",
              "        text-align: right;\n",
              "    }\n",
              "</style>\n",
              "<table border=\"1\" class=\"dataframe\">\n",
              "  <thead>\n",
              "    <tr style=\"text-align: right;\">\n",
              "      <th></th>\n",
              "      <th>HHI</th>\n",
              "      <th>HHDL</th>\n",
              "      <th>Married</th>\n",
              "      <th>CollegGrads</th>\n",
              "      <th>AHHAge</th>\n",
              "      <th>Cars</th>\n",
              "      <th>Filed in 2017</th>\n",
              "      <th>Filed in 2016</th>\n",
              "      <th>Filed in 2015</th>\n",
              "    </tr>\n",
              "  </thead>\n",
              "  <tbody>\n",
              "    <tr>\n",
              "      <th>0</th>\n",
              "      <td>253274</td>\n",
              "      <td>-633752</td>\n",
              "      <td>2</td>\n",
              "      <td>1</td>\n",
              "      <td>94</td>\n",
              "      <td>3</td>\n",
              "      <td>0</td>\n",
              "      <td>1</td>\n",
              "      <td>1</td>\n",
              "    </tr>\n",
              "    <tr>\n",
              "      <th>1</th>\n",
              "      <td>47107</td>\n",
              "      <td>322850</td>\n",
              "      <td>0</td>\n",
              "      <td>1</td>\n",
              "      <td>30</td>\n",
              "      <td>2</td>\n",
              "      <td>1</td>\n",
              "      <td>1</td>\n",
              "      <td>0</td>\n",
              "    </tr>\n",
              "    <tr>\n",
              "      <th>2</th>\n",
              "      <td>111874</td>\n",
              "      <td>300583</td>\n",
              "      <td>0</td>\n",
              "      <td>2</td>\n",
              "      <td>46</td>\n",
              "      <td>3</td>\n",
              "      <td>0</td>\n",
              "      <td>1</td>\n",
              "      <td>1</td>\n",
              "    </tr>\n",
              "    <tr>\n",
              "      <th>3</th>\n",
              "      <td>96670</td>\n",
              "      <td>107419</td>\n",
              "      <td>0</td>\n",
              "      <td>3</td>\n",
              "      <td>77</td>\n",
              "      <td>5</td>\n",
              "      <td>0</td>\n",
              "      <td>0</td>\n",
              "      <td>0</td>\n",
              "    </tr>\n",
              "    <tr>\n",
              "      <th>4</th>\n",
              "      <td>128669</td>\n",
              "      <td>341273</td>\n",
              "      <td>0</td>\n",
              "      <td>0</td>\n",
              "      <td>92</td>\n",
              "      <td>4</td>\n",
              "      <td>1</td>\n",
              "      <td>1</td>\n",
              "      <td>1</td>\n",
              "    </tr>\n",
              "  </tbody>\n",
              "</table>\n",
              "</div>"
            ],
            "text/plain": [
              "      HHI    HHDL  Married  ...  Filed in 2017  Filed in 2016  Filed in 2015\n",
              "0  253274 -633752        2  ...              0              1              1\n",
              "1   47107  322850        0  ...              1              1              0\n",
              "2  111874  300583        0  ...              0              1              1\n",
              "3   96670  107419        0  ...              0              0              0\n",
              "4  128669  341273        0  ...              1              1              1\n",
              "\n",
              "[5 rows x 9 columns]"
            ]
          },
          "execution_count": 602,
          "metadata": {
            "tags": []
          },
          "output_type": "execute_result"
        }
      ],
      "source": [
        "x_test.head()"
      ]
    },
    {
      "cell_type": "code",
      "execution_count": null,
      "metadata": {
        "colab": {
          "base_uri": "https://localhost:8080/"
        },
        "id": "RsEBybE64Udn",
        "outputId": "1c66dad2-7805-41a1-8d1b-afb98e46a246",
        "vscode": {
          "languageId": "python"
        }
      },
      "outputs": [
        {
          "data": {
            "text/plain": [
              "HHI              0\n",
              "HHDL             0\n",
              "Married          0\n",
              "CollegGrads      0\n",
              "AHHAge           0\n",
              "Cars             0\n",
              "Filed in 2017    0\n",
              "Filed in 2016    0\n",
              "Filed in 2015    0\n",
              "dtype: int64"
            ]
          },
          "execution_count": 603,
          "metadata": {
            "tags": []
          },
          "output_type": "execute_result"
        }
      ],
      "source": [
        "x_test.isnull().sum()"
      ]
    },
    {
      "cell_type": "code",
      "execution_count": null,
      "metadata": {
        "id": "DT6K-8f04Z10",
        "vscode": {
          "languageId": "python"
        }
      },
      "outputs": [],
      "source": [
        "x_test_new = pd.get_dummies(x_test, columns=['Married', 'Filed in 2015','Filed in 2016','Filed in 2017'])"
      ]
    },
    {
      "cell_type": "code",
      "execution_count": null,
      "metadata": {
        "colab": {
          "base_uri": "https://localhost:8080/",
          "height": 191
        },
        "id": "KpotLquJ5HjD",
        "outputId": "5ed3c14b-63a5-4a85-87a4-454f45252756",
        "vscode": {
          "languageId": "python"
        }
      },
      "outputs": [
        {
          "data": {
            "text/html": [
              "<div>\n",
              "<style scoped>\n",
              "    .dataframe tbody tr th:only-of-type {\n",
              "        vertical-align: middle;\n",
              "    }\n",
              "\n",
              "    .dataframe tbody tr th {\n",
              "        vertical-align: top;\n",
              "    }\n",
              "\n",
              "    .dataframe thead th {\n",
              "        text-align: right;\n",
              "    }\n",
              "</style>\n",
              "<table border=\"1\" class=\"dataframe\">\n",
              "  <thead>\n",
              "    <tr style=\"text-align: right;\">\n",
              "      <th></th>\n",
              "      <th>HHI</th>\n",
              "      <th>HHDL</th>\n",
              "      <th>CollegGrads</th>\n",
              "      <th>AHHAge</th>\n",
              "      <th>Cars</th>\n",
              "      <th>Married_0</th>\n",
              "      <th>Married_1</th>\n",
              "      <th>Married_2</th>\n",
              "      <th>Filed in 2015_0</th>\n",
              "      <th>Filed in 2015_1</th>\n",
              "      <th>Filed in 2016_0</th>\n",
              "      <th>Filed in 2016_1</th>\n",
              "      <th>Filed in 2017_0</th>\n",
              "      <th>Filed in 2017_1</th>\n",
              "    </tr>\n",
              "  </thead>\n",
              "  <tbody>\n",
              "    <tr>\n",
              "      <th>0</th>\n",
              "      <td>253274</td>\n",
              "      <td>-633752</td>\n",
              "      <td>1</td>\n",
              "      <td>94</td>\n",
              "      <td>3</td>\n",
              "      <td>0</td>\n",
              "      <td>0</td>\n",
              "      <td>1</td>\n",
              "      <td>0</td>\n",
              "      <td>1</td>\n",
              "      <td>0</td>\n",
              "      <td>1</td>\n",
              "      <td>1</td>\n",
              "      <td>0</td>\n",
              "    </tr>\n",
              "    <tr>\n",
              "      <th>1</th>\n",
              "      <td>47107</td>\n",
              "      <td>322850</td>\n",
              "      <td>1</td>\n",
              "      <td>30</td>\n",
              "      <td>2</td>\n",
              "      <td>1</td>\n",
              "      <td>0</td>\n",
              "      <td>0</td>\n",
              "      <td>1</td>\n",
              "      <td>0</td>\n",
              "      <td>0</td>\n",
              "      <td>1</td>\n",
              "      <td>0</td>\n",
              "      <td>1</td>\n",
              "    </tr>\n",
              "    <tr>\n",
              "      <th>2</th>\n",
              "      <td>111874</td>\n",
              "      <td>300583</td>\n",
              "      <td>2</td>\n",
              "      <td>46</td>\n",
              "      <td>3</td>\n",
              "      <td>1</td>\n",
              "      <td>0</td>\n",
              "      <td>0</td>\n",
              "      <td>0</td>\n",
              "      <td>1</td>\n",
              "      <td>0</td>\n",
              "      <td>1</td>\n",
              "      <td>1</td>\n",
              "      <td>0</td>\n",
              "    </tr>\n",
              "    <tr>\n",
              "      <th>3</th>\n",
              "      <td>96670</td>\n",
              "      <td>107419</td>\n",
              "      <td>3</td>\n",
              "      <td>77</td>\n",
              "      <td>5</td>\n",
              "      <td>1</td>\n",
              "      <td>0</td>\n",
              "      <td>0</td>\n",
              "      <td>1</td>\n",
              "      <td>0</td>\n",
              "      <td>1</td>\n",
              "      <td>0</td>\n",
              "      <td>1</td>\n",
              "      <td>0</td>\n",
              "    </tr>\n",
              "    <tr>\n",
              "      <th>4</th>\n",
              "      <td>128669</td>\n",
              "      <td>341273</td>\n",
              "      <td>0</td>\n",
              "      <td>92</td>\n",
              "      <td>4</td>\n",
              "      <td>1</td>\n",
              "      <td>0</td>\n",
              "      <td>0</td>\n",
              "      <td>0</td>\n",
              "      <td>1</td>\n",
              "      <td>0</td>\n",
              "      <td>1</td>\n",
              "      <td>0</td>\n",
              "      <td>1</td>\n",
              "    </tr>\n",
              "  </tbody>\n",
              "</table>\n",
              "</div>"
            ],
            "text/plain": [
              "      HHI    HHDL  ...  Filed in 2017_0  Filed in 2017_1\n",
              "0  253274 -633752  ...                1                0\n",
              "1   47107  322850  ...                0                1\n",
              "2  111874  300583  ...                1                0\n",
              "3   96670  107419  ...                1                0\n",
              "4  128669  341273  ...                0                1\n",
              "\n",
              "[5 rows x 14 columns]"
            ]
          },
          "execution_count": 605,
          "metadata": {
            "tags": []
          },
          "output_type": "execute_result"
        }
      ],
      "source": [
        "x_test_new.head()"
      ]
    },
    {
      "cell_type": "markdown",
      "metadata": {
        "id": "iGrXkK2g6EGi"
      },
      "source": [
        "#**Model Building**"
      ]
    },
    {
      "cell_type": "markdown",
      "metadata": {
        "id": "cDsv5is56MU4"
      },
      "source": [
        "1. Logistic Regression Model"
      ]
    },
    {
      "cell_type": "code",
      "execution_count": null,
      "metadata": {
        "colab": {
          "base_uri": "https://localhost:8080/"
        },
        "id": "VPfTcN8B6KR_",
        "outputId": "f9d12f89-b209-4fd6-ad68-67e902ca2c44",
        "vscode": {
          "languageId": "python"
        }
      },
      "outputs": [
        {
          "data": {
            "text/plain": [
              "LogisticRegression(C=1.0, class_weight=None, dual=False, fit_intercept=True,\n",
              "                   intercept_scaling=1, l1_ratio=None, max_iter=1000,\n",
              "                   multi_class='auto', n_jobs=None, penalty='l2',\n",
              "                   random_state=None, solver='lbfgs', tol=0.0001, verbose=0,\n",
              "                   warm_start=False)"
            ]
          },
          "execution_count": 606,
          "metadata": {
            "tags": []
          },
          "output_type": "execute_result"
        }
      ],
      "source": [
        "logreg = LogisticRegression(max_iter = 1000)     # The maximum number of iterations will be 1000. This will help you prevent from convergence warning.\n",
        "logreg.fit(x_new,y)"
      ]
    },
    {
      "cell_type": "markdown",
      "metadata": {
        "id": "4G_JHFra70py"
      },
      "source": [
        "Model Evaluation"
      ]
    },
    {
      "cell_type": "markdown",
      "metadata": {
        "id": "j1cJgVFlFDzq"
      },
      "source": [
        "Training Accuracy :\n"
      ]
    },
    {
      "cell_type": "code",
      "execution_count": null,
      "metadata": {
        "colab": {
          "base_uri": "https://localhost:8080/"
        },
        "id": "rhPV__Tj73tu",
        "outputId": "4ccc432f-637e-4f79-ff58-b969cca824fb",
        "vscode": {
          "languageId": "python"
        }
      },
      "outputs": [
        {
          "data": {
            "text/plain": [
              "0.34993773349937735"
            ]
          },
          "execution_count": 607,
          "metadata": {
            "tags": []
          },
          "output_type": "execute_result"
        }
      ],
      "source": [
        "import sklearn\n",
        "y_pred=logreg.predict(x_new)\n",
        "sklearn.metrics.accuracy_score(y,y_pred)"
      ]
    },
    {
      "cell_type": "markdown",
      "metadata": {
        "id": "-6p_h0d6GX97"
      },
      "source": [
        "2. Random Forest"
      ]
    },
    {
      "cell_type": "code",
      "execution_count": null,
      "metadata": {
        "id": "04xhTpTmGWzN",
        "vscode": {
          "languageId": "python"
        }
      },
      "outputs": [],
      "source": [
        "from sklearn.feature_selection import SelectFromModel\n",
        "from sklearn.metrics import accuracy_score, f1_score\n",
        "from sklearn.ensemble import RandomForestClassifier"
      ]
    },
    {
      "cell_type": "code",
      "execution_count": null,
      "metadata": {
        "colab": {
          "base_uri": "https://localhost:8080/"
        },
        "id": "Cy_SLaTzGet8",
        "outputId": "5470086d-5c36-4d09-b1f3-d9dcf1e19ab5",
        "vscode": {
          "languageId": "python"
        }
      },
      "outputs": [
        {
          "data": {
            "text/plain": [
              "RandomForestClassifier(bootstrap=True, ccp_alpha=0.0, class_weight=None,\n",
              "                       criterion='gini', max_depth=5, max_features='auto',\n",
              "                       max_leaf_nodes=None, max_samples=None,\n",
              "                       min_impurity_decrease=0.0, min_impurity_split=None,\n",
              "                       min_samples_leaf=1, min_samples_split=2,\n",
              "                       min_weight_fraction_leaf=0.0, n_estimators=1000,\n",
              "                       n_jobs=None, oob_score=False, random_state=1, verbose=0,\n",
              "                       warm_start=False)"
            ]
          },
          "execution_count": 609,
          "metadata": {
            "tags": []
          },
          "output_type": "execute_result"
        }
      ],
      "source": [
        "forest = RandomForestClassifier(random_state=1, n_estimators=1000, max_depth=5)\n",
        " \n",
        "forest.fit(x_new, y)"
      ]
    },
    {
      "cell_type": "markdown",
      "metadata": {
        "id": "RKhxRRMLGgnY"
      },
      "source": [
        "Model Evaluation"
      ]
    },
    {
      "cell_type": "markdown",
      "metadata": {
        "id": "WJ48C1fUGmyq"
      },
      "source": [
        "Training Accuracy :"
      ]
    },
    {
      "cell_type": "code",
      "execution_count": null,
      "metadata": {
        "colab": {
          "base_uri": "https://localhost:8080/"
        },
        "id": "4B-C8RA7GiUy",
        "outputId": "e16a5834-72f8-41aa-d19b-183f6c4fb82a",
        "vscode": {
          "languageId": "python"
        }
      },
      "outputs": [
        {
          "data": {
            "text/plain": [
              "0.7434620174346201"
            ]
          },
          "execution_count": 610,
          "metadata": {
            "tags": []
          },
          "output_type": "execute_result"
        }
      ],
      "source": [
        "y_pred=forest.predict(x_new)\n",
        "sklearn.metrics.accuracy_score(y,y_pred)"
      ]
    },
    {
      "cell_type": "markdown",
      "metadata": {
        "id": "jc-yYZlDkaNf"
      },
      "source": [
        "## **Feature Selection** using Random Forest"
      ]
    },
    {
      "cell_type": "code",
      "execution_count": null,
      "metadata": {
        "colab": {
          "base_uri": "https://localhost:8080/",
          "height": 265
        },
        "id": "8WELyXSHO5V7",
        "outputId": "c84d5f23-7875-4cc2-f858-680fc37dfc33",
        "vscode": {
          "languageId": "python"
        }
      },
      "outputs": [],
      "source": [
        "from sklearn.ensemble import RandomForestClassifier\n",
        "\n",
        "# Create a random forest classifier\n",
        "rf_clf = RandomForestClassifier(n_estimators=10000, random_state=1, n_jobs=-1)\n",
        "\n",
        "# Train the classifier\n",
        "rf_clf.fit(x_new, y)\n",
        "\n"
      ]
    },
    {
      "cell_type": "code",
      "execution_count": null,
      "metadata": {
        "vscode": {
          "languageId": "python"
        }
      },
      "outputs": [],
      "source": []
    },
    {
      "cell_type": "markdown",
      "metadata": {
        "id": "WtV_5sfPHsS6"
      },
      "source": [
        "## **Hyper Parameter Tuning**"
      ]
    },
    {
      "cell_type": "code",
      "execution_count": null,
      "metadata": {
        "id": "g0KjMDiNHx3C",
        "vscode": {
          "languageId": "python"
        }
      },
      "outputs": [],
      "source": [
        "from sklearn.model_selection import GridSearchCV\n",
        "# Create the parameter grid based on the results of random search \n",
        "param_grid = {\n",
        "    'bootstrap': [True, False],\n",
        "    'max_depth': [5, 10, 25, 30],\n",
        "    'n_estimators': [100, 300, 500, 1000]}"
      ]
    },
    {
      "cell_type": "code",
      "execution_count": null,
      "metadata": {
        "id": "4PM2rscmH1Aw",
        "vscode": {
          "languageId": "python"
        }
      },
      "outputs": [],
      "source": [
        "rf = RandomForestClassifier(random_state = 1)\n",
        "\n",
        "# Grid search cv\n",
        "grid_search = GridSearchCV(estimator = rf, param_grid = param_grid, \n",
        "                          cv = 2, n_jobs = -1, verbose = 2)"
      ]
    },
    {
      "cell_type": "code",
      "execution_count": null,
      "metadata": {
        "colab": {
          "base_uri": "https://localhost:8080/"
        },
        "id": "2xbn8_kHH4Rt",
        "outputId": "26558a06-755e-4369-f461-74c045228978",
        "vscode": {
          "languageId": "python"
        }
      },
      "outputs": [
        {
          "name": "stdout",
          "output_type": "stream",
          "text": [
            "Fitting 2 folds for each of 32 candidates, totalling 64 fits\n"
          ]
        },
        {
          "name": "stderr",
          "output_type": "stream",
          "text": [
            "[Parallel(n_jobs=-1)]: Using backend LokyBackend with 2 concurrent workers.\n",
            "[Parallel(n_jobs=-1)]: Done  37 tasks      | elapsed:   24.8s\n",
            "[Parallel(n_jobs=-1)]: Done  64 out of  64 | elapsed:   42.1s finished\n"
          ]
        },
        {
          "data": {
            "text/plain": [
              "GridSearchCV(cv=2, error_score=nan,\n",
              "             estimator=RandomForestClassifier(bootstrap=True, ccp_alpha=0.0,\n",
              "                                              class_weight=None,\n",
              "                                              criterion='gini', max_depth=None,\n",
              "                                              max_features='auto',\n",
              "                                              max_leaf_nodes=None,\n",
              "                                              max_samples=None,\n",
              "                                              min_impurity_decrease=0.0,\n",
              "                                              min_impurity_split=None,\n",
              "                                              min_samples_leaf=1,\n",
              "                                              min_samples_split=2,\n",
              "                                              min_weight_fraction_leaf=0.0,\n",
              "                                              n_estimators=100, n_jobs=None,\n",
              "                                              oob_score=False, random_state=1,\n",
              "                                              verbose=0, warm_start=False),\n",
              "             iid='deprecated', n_jobs=-1,\n",
              "             param_grid={'bootstrap': [True, False],\n",
              "                         'max_depth': [5, 10, 25, 30],\n",
              "                         'n_estimators': [100, 300, 500, 1000]},\n",
              "             pre_dispatch='2*n_jobs', refit=True, return_train_score=False,\n",
              "             scoring=None, verbose=2)"
            ]
          },
          "execution_count": 614,
          "metadata": {
            "tags": []
          },
          "output_type": "execute_result"
        }
      ],
      "source": [
        "grid_search.fit(x_new, y)"
      ]
    },
    {
      "cell_type": "code",
      "execution_count": null,
      "metadata": {
        "colab": {
          "base_uri": "https://localhost:8080/"
        },
        "id": "wDnNRUB9WZUN",
        "outputId": "c349f468-29a8-40a0-e912-067222ac52a2",
        "vscode": {
          "languageId": "python"
        }
      },
      "outputs": [
        {
          "data": {
            "text/plain": [
              "{'bootstrap': False, 'max_depth': 25, 'n_estimators': 500}"
            ]
          },
          "execution_count": 615,
          "metadata": {
            "tags": []
          },
          "output_type": "execute_result"
        }
      ],
      "source": [
        "grid_search.best_params_"
      ]
    },
    {
      "cell_type": "markdown",
      "metadata": {
        "id": "Zq3tZPchH8qU"
      },
      "source": [
        "Model Evalulation"
      ]
    },
    {
      "cell_type": "code",
      "execution_count": null,
      "metadata": {
        "colab": {
          "base_uri": "https://localhost:8080/"
        },
        "id": "xcPl2d4CH-TL",
        "outputId": "fee091d4-51f7-4cec-f61f-26a7e8761601",
        "vscode": {
          "languageId": "python"
        }
      },
      "outputs": [
        {
          "data": {
            "text/plain": [
              "1.0"
            ]
          },
          "execution_count": 616,
          "metadata": {
            "tags": []
          },
          "output_type": "execute_result"
        }
      ],
      "source": [
        "y_pred=grid_search.predict(x_new)\n",
        "sklearn.metrics.accuracy_score(y,y_pred)"
      ]
    },
    {
      "cell_type": "code",
      "execution_count": null,
      "metadata": {
        "colab": {
          "base_uri": "https://localhost:8080/"
        },
        "id": "lfxVsC5rSkWJ",
        "outputId": "af4b092c-7cb9-4192-f965-729f4bfa428e",
        "vscode": {
          "languageId": "python"
        }
      },
      "outputs": [
        {
          "data": {
            "text/plain": [
              "RandomForestClassifier(bootstrap=False, ccp_alpha=0.0, class_weight=None,\n",
              "                       criterion='gini', max_depth=25, max_features='auto',\n",
              "                       max_leaf_nodes=None, max_samples=None,\n",
              "                       min_impurity_decrease=0.0, min_impurity_split=None,\n",
              "                       min_samples_leaf=1, min_samples_split=2,\n",
              "                       min_weight_fraction_leaf=0.0, n_estimators=500,\n",
              "                       n_jobs=None, oob_score=False, random_state=1, verbose=0,\n",
              "                       warm_start=False)"
            ]
          },
          "execution_count": 617,
          "metadata": {
            "tags": []
          },
          "output_type": "execute_result"
        }
      ],
      "source": [
        "forest = RandomForestClassifier(random_state=1, n_estimators=500, max_depth=25, bootstrap =False)\n",
        "forest.fit(x_new, y)"
      ]
    },
    {
      "cell_type": "code",
      "execution_count": null,
      "metadata": {
        "colab": {
          "base_uri": "https://localhost:8080/"
        },
        "id": "f2xvTsW0XBV5",
        "outputId": "ce01760b-1c10-4c78-f1e1-07ccdaaa2d37",
        "vscode": {
          "languageId": "python"
        }
      },
      "outputs": [
        {
          "data": {
            "text/plain": [
              "1.0"
            ]
          },
          "execution_count": 618,
          "metadata": {
            "tags": []
          },
          "output_type": "execute_result"
        }
      ],
      "source": [
        "y_pred=forest.predict(x_new)\n",
        "sklearn.metrics.accuracy_score(y,y_pred)"
      ]
    },
    {
      "cell_type": "code",
      "execution_count": null,
      "metadata": {
        "colab": {
          "base_uri": "https://localhost:8080/"
        },
        "id": "Pqir7FvCoLSL",
        "outputId": "2c03cba3-03ee-47c1-d385-59cf588c0a00",
        "vscode": {
          "languageId": "python"
        }
      },
      "outputs": [
        {
          "name": "stdout",
          "output_type": "stream",
          "text": [
            "['Democrat' 'Republican' 'Independent' 'Republican' 'Democrat'\n",
            " 'Independent' 'Democrat' 'Independent' 'Independent' 'Republican'\n",
            " 'Democrat' 'Independent' 'Independent' 'Republican' 'Democrat'\n",
            " 'Independent' 'Republican' 'Democrat' 'Independent' 'Independent'\n",
            " 'Democrat' 'Democrat' 'Democrat' 'Independent' 'Democrat' 'Republican'\n",
            " 'Independent' 'Republican' 'Republican' 'Democrat' 'Independent'\n",
            " 'Republican' 'Republican' 'Independent' 'Independent' 'Republican'\n",
            " 'Democrat' 'Republican' 'Republican' 'Republican' 'Independent'\n",
            " 'Independent' 'Independent' 'Republican' 'Independent' 'Republican'\n",
            " 'Democrat' 'Republican' 'Democrat' 'Independent' 'Democrat' 'Independent'\n",
            " 'Democrat' 'Democrat' 'Independent' 'Independent' 'Democrat'\n",
            " 'Independent' 'Democrat' 'Independent' 'Democrat' 'Democrat'\n",
            " 'Independent' 'Republican' 'Democrat' 'Republican' 'Democrat'\n",
            " 'Independent' 'Republican' 'Independent' 'Independent' 'Independent'\n",
            " 'Independent' 'Independent' 'Independent' 'Democrat' 'Independent'\n",
            " 'Republican' 'Independent' 'Democrat' 'Democrat' 'Independent'\n",
            " 'Independent' 'Republican' 'Democrat' 'Democrat' 'Independent'\n",
            " 'Independent' 'Republican' 'Independent' 'Independent' 'Democrat'\n",
            " 'Democrat' 'Independent' 'Republican' 'Independent' 'Republican'\n",
            " 'Republican' 'Democrat' 'Independent' 'Republican' 'Republican'\n",
            " 'Democrat' 'Independent' 'Republican' 'Independent' 'Democrat'\n",
            " 'Independent' 'Independent' 'Democrat' 'Democrat' 'Republican'\n",
            " 'Republican' 'Republican' 'Independent' 'Republican' 'Republican'\n",
            " 'Republican' 'Independent' 'Independent' 'Republican' 'Democrat'\n",
            " 'Republican' 'Independent' 'Republican' 'Republican' 'Democrat'\n",
            " 'Democrat' 'Democrat' 'Democrat' 'Independent' 'Republican' 'Republican'\n",
            " 'Democrat' 'Republican' 'Independent' 'Democrat' 'Republican' 'Democrat'\n",
            " 'Independent' 'Republican' 'Independent' 'Independent' 'Democrat'\n",
            " 'Independent' 'Independent' 'Democrat' 'Independent' 'Independent'\n",
            " 'Independent' 'Republican' 'Democrat' 'Republican' 'Democrat' 'Democrat'\n",
            " 'Independent' 'Republican' 'Independent' 'Independent' 'Republican'\n",
            " 'Republican' 'Independent' 'Democrat' 'Republican' 'Democrat'\n",
            " 'Independent' 'Republican' 'Independent' 'Democrat' 'Republican'\n",
            " 'Republican' 'Independent' 'Republican' 'Democrat' 'Democrat' 'Democrat'\n",
            " 'Independent' 'Democrat' 'Democrat' 'Independent' 'Independent'\n",
            " 'Democrat' 'Republican' 'Democrat' 'Independent' 'Republican'\n",
            " 'Independent' 'Democrat' 'Independent' 'Democrat' 'Republican'\n",
            " 'Independent' 'Republican' 'Independent' 'Republican' 'Independent'\n",
            " 'Democrat' 'Republican' 'Independent' 'Democrat' 'Republican'\n",
            " 'Republican' 'Republican' 'Democrat' 'Independent' 'Democrat'\n",
            " 'Independent' 'Democrat' 'Democrat' 'Democrat' 'Republican' 'Republican'\n",
            " 'Independent' 'Republican' 'Democrat' 'Democrat' 'Independent' 'Democrat'\n",
            " 'Democrat' 'Republican' 'Republican' 'Democrat' 'Independent'\n",
            " 'Republican' 'Republican' 'Republican' 'Independent' 'Republican'\n",
            " 'Democrat' 'Independent' 'Republican' 'Democrat' 'Republican' 'Democrat'\n",
            " 'Democrat' 'Democrat' 'Republican' 'Republican' 'Independent' 'Democrat'\n",
            " 'Independent' 'Independent' 'Democrat' 'Democrat' 'Republican'\n",
            " 'Independent' 'Democrat' 'Democrat' 'Independent' 'Democrat'\n",
            " 'Independent' 'Republican' 'Democrat' 'Republican' 'Republican'\n",
            " 'Republican' 'Republican' 'Independent' 'Democrat' 'Democrat'\n",
            " 'Republican' 'Democrat' 'Republican' 'Republican' 'Independent'\n",
            " 'Democrat' 'Democrat' 'Democrat' 'Republican' 'Independent' 'Independent'\n",
            " 'Democrat' 'Independent' 'Democrat' 'Democrat' 'Republican' 'Democrat'\n",
            " 'Independent' 'Republican' 'Republican' 'Independent' 'Republican'\n",
            " 'Independent' 'Republican' 'Republican' 'Republican' 'Democrat'\n",
            " 'Independent' 'Democrat' 'Republican' 'Republican' 'Independent'\n",
            " 'Democrat' 'Democrat' 'Democrat' 'Democrat' 'Republican' 'Independent'\n",
            " 'Republican' 'Democrat' 'Democrat' 'Independent' 'Republican'\n",
            " 'Republican' 'Democrat' 'Democrat' 'Republican' 'Democrat' 'Democrat'\n",
            " 'Independent' 'Independent' 'Republican' 'Independent' 'Democrat'\n",
            " 'Republican' 'Independent' 'Independent' 'Democrat' 'Independent'\n",
            " 'Democrat' 'Independent' 'Democrat' 'Independent' 'Republican'\n",
            " 'Republican' 'Independent' 'Democrat' 'Independent' 'Republican'\n",
            " 'Independent' 'Republican' 'Independent' 'Independent' 'Democrat'\n",
            " 'Republican' 'Democrat' 'Democrat' 'Independent' 'Republican' 'Democrat'\n",
            " 'Republican' 'Republican' 'Democrat' 'Independent' 'Independent'\n",
            " 'Republican' 'Republican' 'Democrat' 'Republican' 'Independent'\n",
            " 'Independent' 'Republican' 'Republican' 'Independent' 'Democrat'\n",
            " 'Independent' 'Republican' 'Democrat' 'Democrat' 'Democrat' 'Democrat'\n",
            " 'Democrat' 'Republican' 'Democrat' 'Democrat' 'Republican' 'Democrat'\n",
            " 'Independent' 'Democrat' 'Republican' 'Independent' 'Democrat'\n",
            " 'Independent' 'Republican' 'Democrat' 'Democrat' 'Republican'\n",
            " 'Republican' 'Republican' 'Democrat' 'Democrat' 'Republican'\n",
            " 'Independent' 'Republican' 'Democrat' 'Democrat' 'Democrat' 'Independent'\n",
            " 'Republican' 'Independent' 'Democrat' 'Republican' 'Independent'\n",
            " 'Democrat' 'Independent' 'Independent' 'Democrat' 'Republican' 'Democrat'\n",
            " 'Democrat' 'Republican' 'Independent' 'Democrat' 'Republican' 'Democrat'\n",
            " 'Democrat' 'Democrat' 'Independent' 'Republican' 'Republican'\n",
            " 'Independent' 'Independent' 'Democrat' 'Independent' 'Republican'\n",
            " 'Republican' 'Republican' 'Independent' 'Democrat' 'Republican'\n",
            " 'Republican' 'Republican' 'Democrat' 'Republican' 'Republican' 'Democrat'\n",
            " 'Independent' 'Democrat' 'Independent' 'Republican' 'Independent'\n",
            " 'Independent' 'Independent' 'Democrat' 'Democrat' 'Independent'\n",
            " 'Republican' 'Republican' 'Democrat' 'Independent' 'Independent'\n",
            " 'Independent' 'Independent' 'Democrat' 'Independent' 'Republican'\n",
            " 'Independent' 'Democrat' 'Republican' 'Independent' 'Independent'\n",
            " 'Republican' 'Democrat' 'Republican' 'Independent' 'Democrat'\n",
            " 'Republican' 'Democrat' 'Republican' 'Republican' 'Democrat' 'Republican'\n",
            " 'Independent' 'Democrat' 'Independent' 'Republican' 'Republican'\n",
            " 'Republican' 'Republican' 'Republican' 'Independent' 'Democrat'\n",
            " 'Republican' 'Republican' 'Independent' 'Democrat' 'Independent'\n",
            " 'Democrat' 'Republican' 'Democrat' 'Democrat' 'Independent' 'Republican'\n",
            " 'Independent' 'Democrat' 'Independent' 'Republican' 'Independent'\n",
            " 'Independent' 'Democrat' 'Democrat' 'Independent' 'Independent'\n",
            " 'Democrat' 'Democrat' 'Independent' 'Independent' 'Independent'\n",
            " 'Democrat' 'Independent' 'Independent' 'Republican' 'Democrat'\n",
            " 'Republican' 'Republican' 'Independent' 'Republican' 'Independent'\n",
            " 'Independent' 'Republican' 'Independent' 'Republican' 'Independent'\n",
            " 'Independent' 'Republican' 'Independent' 'Independent' 'Republican'\n",
            " 'Democrat' 'Independent' 'Democrat' 'Independent' 'Republican' 'Democrat'\n",
            " 'Democrat' 'Democrat' 'Democrat' 'Independent' 'Independent'\n",
            " 'Independent' 'Democrat' 'Democrat' 'Democrat' 'Independent'\n",
            " 'Independent' 'Independent' 'Democrat' 'Republican' 'Independent'\n",
            " 'Democrat' 'Independent' 'Democrat' 'Republican' 'Democrat' 'Independent'\n",
            " 'Republican' 'Independent' 'Republican' 'Independent' 'Independent'\n",
            " 'Democrat' 'Independent' 'Independent' 'Independent' 'Democrat'\n",
            " 'Republican' 'Independent' 'Democrat' 'Democrat' 'Republican'\n",
            " 'Independent' 'Republican' 'Democrat' 'Republican' 'Democrat' 'Democrat'\n",
            " 'Independent' 'Independent' 'Democrat' 'Independent' 'Democrat'\n",
            " 'Democrat' 'Democrat' 'Independent' 'Democrat' 'Republican' 'Republican'\n",
            " 'Republican' 'Republican' 'Democrat' 'Democrat' 'Democrat' 'Independent'\n",
            " 'Democrat' 'Independent' 'Republican' 'Independent' 'Independent'\n",
            " 'Independent' 'Republican' 'Democrat' 'Republican' 'Independent'\n",
            " 'Republican' 'Democrat' 'Independent' 'Democrat' 'Independent'\n",
            " 'Independent' 'Republican' 'Democrat' 'Republican' 'Democrat' 'Democrat'\n",
            " 'Republican' 'Independent' 'Republican' 'Republican' 'Democrat'\n",
            " 'Independent' 'Independent' 'Republican' 'Republican' 'Republican'\n",
            " 'Democrat' 'Democrat' 'Independent' 'Independent' 'Independent'\n",
            " 'Democrat' 'Independent' 'Democrat' 'Democrat' 'Republican' 'Republican'\n",
            " 'Democrat' 'Independent' 'Republican' 'Republican' 'Republican'\n",
            " 'Independent' 'Independent' 'Democrat' 'Independent' 'Democrat'\n",
            " 'Democrat' 'Independent' 'Independent' 'Independent' 'Democrat'\n",
            " 'Independent' 'Republican' 'Democrat' 'Independent' 'Republican'\n",
            " 'Democrat' 'Independent' 'Republican' 'Democrat' 'Independent' 'Democrat'\n",
            " 'Independent' 'Independent' 'Republican' 'Democrat' 'Republican'\n",
            " 'Republican' 'Independent' 'Independent' 'Democrat' 'Republican'\n",
            " 'Republican' 'Democrat' 'Republican' 'Republican' 'Republican'\n",
            " 'Republican' 'Independent' 'Republican' 'Democrat' 'Independent'\n",
            " 'Republican' 'Republican' 'Republican' 'Republican' 'Independent'\n",
            " 'Democrat' 'Independent' 'Independent' 'Republican' 'Democrat'\n",
            " 'Republican' 'Republican' 'Democrat' 'Democrat' 'Democrat' 'Democrat'\n",
            " 'Democrat' 'Democrat' 'Democrat' 'Republican' 'Independent' 'Republican'\n",
            " 'Independent' 'Republican' 'Democrat' 'Republican' 'Independent'\n",
            " 'Republican' 'Independent' 'Republican' 'Independent' 'Independent'\n",
            " 'Republican' 'Independent' 'Republican' 'Republican' 'Independent'\n",
            " 'Democrat' 'Republican' 'Republican' 'Republican' 'Democrat' 'Democrat'\n",
            " 'Republican' 'Independent' 'Independent' 'Republican' 'Democrat'\n",
            " 'Republican' 'Republican' 'Democrat' 'Republican' 'Democrat' 'Democrat'\n",
            " 'Independent' 'Independent' 'Democrat' 'Republican' 'Democrat' 'Democrat'\n",
            " 'Republican' 'Independent' 'Republican' 'Independent' 'Democrat'\n",
            " 'Republican' 'Republican' 'Republican' 'Republican' 'Independent'\n",
            " 'Republican' 'Republican' 'Republican' 'Democrat' 'Independent'\n",
            " 'Independent' 'Republican' 'Independent' 'Independent' 'Democrat'\n",
            " 'Independent' 'Independent' 'Republican' 'Republican' 'Democrat'\n",
            " 'Democrat' 'Independent' 'Democrat' 'Independent' 'Independent'\n",
            " 'Democrat' 'Republican' 'Independent' 'Democrat' 'Democrat' 'Independent'\n",
            " 'Republican' 'Independent' 'Republican' 'Republican' 'Democrat'\n",
            " 'Republican' 'Republican' 'Democrat' 'Democrat' 'Democrat' 'Independent'\n",
            " 'Republican' 'Independent' 'Democrat' 'Republican' 'Republican'\n",
            " 'Democrat' 'Democrat' 'Democrat' 'Democrat' 'Republican' 'Republican'\n",
            " 'Democrat' 'Independent' 'Democrat' 'Independent' 'Republican'\n",
            " 'Republican' 'Independent' 'Democrat' 'Republican' 'Democrat' 'Democrat'\n",
            " 'Democrat' 'Republican' 'Republican']\n"
          ]
        }
      ],
      "source": [
        "print(y_pred)"
      ]
    },
    {
      "cell_type": "code",
      "execution_count": null,
      "metadata": {
        "id": "laaMlYLorJJT",
        "vscode": {
          "languageId": "python"
        }
      },
      "outputs": [],
      "source": [
        "target =forest.predict(x_test_new)"
      ]
    },
    {
      "cell_type": "code",
      "execution_count": null,
      "metadata": {
        "colab": {
          "base_uri": "https://localhost:8080/",
          "height": 17
        },
        "id": "l2DijVDxrC5t",
        "outputId": "b68d80f7-4a9f-40db-9b66-6ea8ee2312e8",
        "vscode": {
          "languageId": "python"
        }
      },
      "outputs": [
        {
          "data": {
            "application/javascript": "\n    async function download(id, filename, size) {\n      if (!google.colab.kernel.accessAllowed) {\n        return;\n      }\n      const div = document.createElement('div');\n      const label = document.createElement('label');\n      label.textContent = `Downloading \"${filename}\": `;\n      div.appendChild(label);\n      const progress = document.createElement('progress');\n      progress.max = size;\n      div.appendChild(progress);\n      document.body.appendChild(div);\n\n      const buffers = [];\n      let downloaded = 0;\n\n      const channel = await google.colab.kernel.comms.open(id);\n      // Send a message to notify the kernel that we're ready.\n      channel.send({})\n\n      for await (const message of channel.messages) {\n        // Send a message to notify the kernel that we're ready.\n        channel.send({})\n        if (message.buffers) {\n          for (const buffer of message.buffers) {\n            buffers.push(buffer);\n            downloaded += buffer.byteLength;\n            progress.value = downloaded;\n          }\n        }\n      }\n      const blob = new Blob(buffers, {type: 'application/binary'});\n      const a = document.createElement('a');\n      a.href = window.URL.createObjectURL(blob);\n      a.download = filename;\n      div.appendChild(a);\n      a.click();\n      div.remove();\n    }\n  ",
            "text/plain": [
              "<IPython.core.display.Javascript object>"
            ]
          },
          "metadata": {
            "tags": []
          },
          "output_type": "display_data"
        },
        {
          "data": {
            "application/javascript": "download(\"download_35bd4fa6-c011-4e27-8730-dfb215eac394\", \"prediction_results.csv\", 2122)",
            "text/plain": [
              "<IPython.core.display.Javascript object>"
            ]
          },
          "metadata": {
            "tags": []
          },
          "output_type": "display_data"
        }
      ],
      "source": [
        "\n",
        "res = pd.DataFrame(target) #preditcions are nothing but the final predictions of your model on input features of your new unseen test data\n",
        "res.index = x_test_new.index # its important for comparison. Here \"test_new\" is your new test dataset\n",
        "res.columns = [\"prediction\"]\n",
        "\n",
        "# To download the csv file locally\n",
        "from google.colab import files\n",
        "res.to_csv('prediction_results.csv', index = False)         \n",
        "files.download('prediction_results.csv')"
      ]
    }
  ],
  "metadata": {
    "colab": {
      "collapsed_sections": [],
      "name": "Datathon 1 : Taxpayer's Political Party.ipynb",
      "provenance": []
    },
    "kernelspec": {
      "display_name": "Python 3",
      "name": "python3"
    }
  },
  "nbformat": 4,
  "nbformat_minor": 0
}
